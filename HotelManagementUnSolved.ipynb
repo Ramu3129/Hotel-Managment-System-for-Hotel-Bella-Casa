{
  "nbformat": 4,
  "nbformat_minor": 0,
  "metadata": {
    "colab": {
      "name": "HotelManagementUnSolved.ipynb",
      "provenance": [],
      "collapsed_sections": []
    },
    "kernelspec": {
      "display_name": "Python 3",
      "name": "python3"
    }
  },
  "cells": [
    {
      "cell_type": "markdown",
      "metadata": {
        "id": "EoE6hf_QhspK"
      },
      "source": [
        "#Hotel Management System using Python\n",
        "\n",
        "\n"
      ]
    },
    {
      "cell_type": "markdown",
      "metadata": {
        "id": "zci04WtcSr0a"
      },
      "source": [
        "##**Scenario**: Hotel Managment System for Hotel Bella Casa.\n",
        "\n",
        "###Hotel Bella Casa is an upscale hotel brand that delivers four different categories of the room each type having a maximum of five rooms of accommodation limit. In this hotel, the major issues mainly concerned are the synchronization, management of room bookings, providing appropriate information to their customers, record stabilization, room service tracking, restaurant management, and overall bill generation according to services taken by the customer."
      ]
    },
    {
      "cell_type": "markdown",
      "metadata": {
        "id": "2cR5lhUmSsIC"
      },
      "source": [
        "**Problem Statement:** Write a Python code to build a Hotel Management System which could perform the following operations like - Room Booking, Provide you with Hotel Rooms Info, Room Service, Billing, and Record-Keeping.\n",
        "\n",
        "**Topics Covered:**\n",
        "- Function\n",
        "- Loops\n",
        "- DateTime\n",
        "- Conditional Statement\n",
        "- Data Types\n",
        "  - String\n",
        "  - List\n",
        "  - Dictionary"
      ]
    },
    {
      "cell_type": "markdown",
      "metadata": {
        "id": "EU3T7KD9emIm"
      },
      "source": [
        "####Functions Used\n",
        "\n",
        "![](https://imgur.com/a/Yh2Bav5)\n",
        "\n",
        "- Booking(): Book room at hotel\n",
        "- Room_Service(): Room service for people staying at hotel\n",
        "- Payment(): Shows total bill of the customer \n",
        "-Record(): Shows all the booking records in the hotel \n",
        "-Rooms_Info(): Shows information of all the categories of room\n",
        "-Restuarant_menu(): Shows food menu\n",
        "-Pay_For_Food(): Generate bill for food ordered\n",
        "-Home(): Menu Driven program to run all the functions "
      ]
    },
    {
      "cell_type": "markdown",
      "metadata": {
        "id": "eUpXusH0GmHV"
      },
      "source": [
        "###Declaring Global List"
      ]
    },
    {
      "cell_type": "code",
      "metadata": {
        "id": "Cu4nXBtCFLtX"
      },
      "source": [
        "#Imports and Declarations\n"
      ],
      "execution_count": null,
      "outputs": []
    },
    {
      "cell_type": "markdown",
      "metadata": {
        "id": "odDiOC3Vc8wC"
      },
      "source": [
        "####Booking Function\n",
        "**Asks for check-in time, check-out time, shows availability and books room**\n",
        "- validates date input with datetime and ensures that checkin date isn't after checout date\n",
        "-Uses RegEx to validate and ensure that name and phone number are entered in correct format\n",
        "-Randomly generates a customer id and allocates a room number\n",
        "-Creates a record once a booking is made"
      ]
    },
    {
      "cell_type": "code",
      "metadata": {
        "id": "Z5IAyzbjj6bb"
      },
      "source": [
        "#Booking\n",
        "def Booking():\n",
        "    #Your Code Here\n",
        " "
      ],
      "execution_count": null,
      "outputs": []
    },
    {
      "cell_type": "markdown",
      "metadata": {
        "id": "eN_aYIq1PsSQ"
      },
      "source": [
        "####Room Service\n",
        "**Asks for services requested by customers staying in Hotel**\n",
        "- Adds the additional amount of services to total bill "
      ]
    },
    {
      "cell_type": "code",
      "metadata": {
        "id": "r4chGi4eJWWO"
      },
      "source": [
        "#Room_Service\n",
        "def Room_Service():\n",
        "    #Your Code Here"
      ],
      "execution_count": null,
      "outputs": []
    },
    {
      "cell_type": "markdown",
      "metadata": {
        "id": "Yxt4mqexQMbO"
      },
      "source": [
        "####Payment\n",
        "Generates total bill of a customer and displays all the customer information "
      ]
    },
    {
      "cell_type": "code",
      "metadata": {
        "id": "FNiDOiCoJWjr"
      },
      "source": [
        "#Total bill\n",
        "def Payment():\n",
        "    #Your code here\n",
        "    "
      ],
      "execution_count": null,
      "outputs": []
    },
    {
      "cell_type": "markdown",
      "metadata": {
        "id": "pWSxPzSJQfae"
      },
      "source": [
        "####Records\n",
        "**Shows all the booking related records in the hotel**"
      ]
    },
    {
      "cell_type": "code",
      "metadata": {
        "id": "33GlcGmS1YlN"
      },
      "source": [
        "#Records\n",
        "def Record():\n",
        "    #YOur Code Here\n"
      ],
      "execution_count": null,
      "outputs": []
    },
    {
      "cell_type": "markdown",
      "metadata": {
        "id": "m3becKSTJfUB"
      },
      "source": [
        "###Room information function\n",
        "*  **Enables the customers to view the types of rooms available in the hotel.**\n",
        "*  **Allow the customer to check the availablity of given types of rooms**"
      ]
    },
    {
      "cell_type": "code",
      "metadata": {
        "id": "s95VV9uiOYux"
      },
      "source": [
        "#Room information and checking availablity\n",
        "def Rooms_Info():\n",
        "    #Your Code Here\n",
        "      \n",
        "\n",
        "\n",
        " \n",
        "\n",
        "        "
      ],
      "execution_count": null,
      "outputs": []
    },
    {
      "cell_type": "markdown",
      "metadata": {
        "id": "Er6i6rTboo5y"
      },
      "source": [
        "###Restuarant menu function.\n",
        "**Display the menu of food items available with rates in the restuarant.**"
      ]
    },
    {
      "cell_type": "code",
      "metadata": {
        "id": "dM5EBU0dJf_s"
      },
      "source": [
        "def Restuarant_menu():\n",
        "    #Your Code Here"
      ],
      "execution_count": null,
      "outputs": []
    },
    {
      "cell_type": "markdown",
      "metadata": {
        "id": "LgAw1H2AWwAE"
      },
      "source": [
        "###Pay for food function\n",
        "\n",
        "*  **Stores the restuarant menu index wise in the dictioanary.**\n",
        "*  **Print the keys of dictionary in varaible.**\n",
        "*  **Request customer to lodge the food order with the restuarant.**\n",
        "*  **Display total amount of bill of the ordered food  by the customer.**"
      ]
    },
    {
      "cell_type": "code",
      "metadata": {
        "id": "ZNx_qSxVbu6w"
      },
      "source": [
        "def Pay_for_food():\n",
        "    #Your COde Here\n",
        "\n"
      ],
      "execution_count": null,
      "outputs": []
    },
    {
      "cell_type": "markdown",
      "metadata": {
        "id": "28Ro4jTVQ_Ju"
      },
      "source": [
        "####Home Function\n",
        "**A menu driven program to access all the functionalities within the program**\n",
        "\n",
        "-Requests the user to enter choice code and executes the functions accordingly\n"
      ]
    },
    {
      "cell_type": "code",
      "metadata": {
        "id": "er9wOhi5JWmf"
      },
      "source": [
        "#Driver Program (HOME)\n",
        "# Home Function \n",
        "def Home():\n",
        "    #YOur Code Here"
      ],
      "execution_count": null,
      "outputs": []
    },
    {
      "cell_type": "code",
      "metadata": {
        "id": "rWSSNHeFKB54"
      },
      "source": [
        "#Driver Code\n",
        "Home()"
      ],
      "execution_count": null,
      "outputs": []
    }
  ]
}